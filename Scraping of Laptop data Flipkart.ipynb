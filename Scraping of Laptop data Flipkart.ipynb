{
 "cells": [
  {
   "cell_type": "markdown",
   "id": "1b9dad6d-e894-427d-a10e-ba3c04e03660",
   "metadata": {},
   "source": [
    "# First Page"
   ]
  },
  {
   "cell_type": "code",
   "execution_count": 1,
   "id": "33b8dce0-0b09-47a0-a96c-04df97888940",
   "metadata": {},
   "outputs": [],
   "source": [
    "from selenium import webdriver\n",
    "from selenium.webdriver.common.by import By\n",
    "from selenium.webdriver.support.ui import WebDriverWait\n",
    "from selenium.webdriver.support import expected_conditions as EC\n",
    "from bs4 import BeautifulSoup\n",
    "import pandas as pd"
   ]
  },
  {
   "cell_type": "code",
   "execution_count": 2,
   "id": "0e843623-e2e0-499f-8f10-512058a53f2e",
   "metadata": {},
   "outputs": [],
   "source": [
    "driver = webdriver.Chrome()"
   ]
  },
  {
   "cell_type": "code",
   "execution_count": 3,
   "id": "2e3bc048-28b5-44bb-9a94-619c5036e876",
   "metadata": {},
   "outputs": [],
   "source": [
    "driver.get('https://www.flipkart.com/search?q=laptop&otracker=search&otracker1=search&marketplace=FLIPKART&as-show=on&as=off')"
   ]
  },
  {
   "cell_type": "code",
   "execution_count": 4,
   "id": "c70084ec-85ae-4792-aec7-6317b961a3ac",
   "metadata": {},
   "outputs": [],
   "source": [
    "soup = BeautifulSoup(driver.page_source,'html.parser')"
   ]
  },
  {
   "cell_type": "code",
   "execution_count": 5,
   "id": "59765b8b-4d60-4ebc-a2a1-875dec852e01",
   "metadata": {},
   "outputs": [],
   "source": [
    "div_ = soup.findAll('div', {'class':'tUxRFH'})[0]"
   ]
  },
  {
   "cell_type": "code",
   "execution_count": 6,
   "id": "df4c8334-2211-4c8c-bb48-9962df7407fa",
   "metadata": {},
   "outputs": [],
   "source": [
    "name_element = div_.find('div',{'class':'KzDlHZ'})\n",
    "name_ = name_element.text if name_element else None\n",
    "# name_      \n",
    "rating_element = div_.find('div',{'class':'XQDdHH'})\n",
    "rating_ = rating_element.text if rating_element else None\n",
    "# rating_\n",
    "price_element = div_.find('div',{'class':'Nx9bqj _4b5DiR'})\n",
    "price_ = price_element.text if price_element else None\n",
    "# price_\n",
    "original_price_element = div_.find('div',{'class':'yRaY8j ZYYwLA'})\n",
    "original_price_ = original_price_element.text if original_price_element else None\n",
    "# original_price_\n",
    "discount_element = div_.find('div',{'class':'UkUFwK'})\n",
    "discount_ = discount_element.text[:3] if discount_element else None\n",
    "# discount_\n",
    "features_element = div_.find('ul',{'class':'G4BRas'})\n",
    "features_ = features_element.text if features_element else None\n",
    "# features_\n",
    "\n",
    "[name_,rating_,price_,original_price_,discount_,features_]"
   ]
  },
  {
   "cell_type": "code",
   "execution_count": 7,
   "id": "5d76b053-c286-413c-9c4e-c7b735ba9a27",
   "metadata": {},
   "outputs": [],
   "source": [
    "def get_div_info(div_):\n",
    "    name_element = div_.find('div',{'class':'KzDlHZ'})\n",
    "    name_ = name_element.text if name_element else None\n",
    "    name = name_.split('-')[0].strip() if '-' in name_ else name_\n",
    "    \n",
    "    rating_element = div_.find('div',{'class':'XQDdHH'})\n",
    "    rating_ = rating_element.text if rating_element else None\n",
    "    rating = rating_ if rating_ else 'None'\n",
    "    \n",
    "    price_element = div_.find('div',{'class':'Nx9bqj _4b5DiR'})\n",
    "    price_ = price_element.text if price_element else None\n",
    "    price = price_ if price_ else 'None'\n",
    "\n",
    "    original_price_element = div_.find('div',{'class':'yRaY8j ZYYwLA'})\n",
    "    original_price_ = original_price_element.text if original_price_element else None\n",
    "    original_price = original_price_ if original_price_ else 'None'\n",
    "    \n",
    "    discount_element = div_.find('div',{'class':'UkUFwK'})\n",
    "    discount_ = discount_element.text[:3] if discount_element else None\n",
    "    discount = discount_ if discount_ else 'None'\n",
    "    \n",
    "    features_element = div_.find('ul',{'class':'G4BRas'})\n",
    "    features_ = features_element.text if features_element else None\n",
    "    features = features_ if features_ else 'None'\n",
    "\n",
    "    return [name, rating, price, original_price, discount, features]"
   ]
  },
  {
   "cell_type": "code",
   "execution_count": 8,
   "id": "bb184546-9757-4b1f-ab74-30e4583dcc0a",
   "metadata": {},
   "outputs": [],
   "source": [
    "div_info_list = []\n",
    "for div_ in soup.findAll('div', {'class':'tUxRFH'}):\n",
    "    div_info_list.append(get_div_info(div_))"
   ]
  },
  {
   "cell_type": "code",
   "execution_count": 9,
   "id": "05b0446a-e7de-4fbd-86bf-048890ccec10",
   "metadata": {},
   "outputs": [],
   "source": [
    "div_info_list"
   ]
  },
  {
   "cell_type": "code",
   "execution_count": 10,
   "id": "8d1d174e-a310-4b35-91cd-e8e27e577cdd",
   "metadata": {
    "scrolled": true
   },
   "outputs": [],
   "source": [
    "df = pd.DataFrame(div_info_list, columns=['Name', 'Rating', 'Current Price', 'Original Price', 'Discount', 'Features'])\n",
    "df"
   ]
  },
  {
   "cell_type": "markdown",
   "id": "b97816c3-1c15-4b3a-adab-54faaf987756",
   "metadata": {},
   "source": [
    "# ALL PAGES"
   ]
  },
  {
   "cell_type": "code",
   "execution_count": 11,
   "id": "d82b8879-fe60-4038-a4da-597c8bf757b6",
   "metadata": {},
   "outputs": [],
   "source": [
    "def scrape_page(url):\n",
    "    driver = webdriver.Chrome()  \n",
    "    driver.get(url)\n",
    "\n",
    "    WebDriverWait(driver, 10).until(EC.visibility_of_element_located((By.CSS_SELECTOR, 'div.tUxRFH')))\n",
    "\n",
    "    driver.quit()\n",
    "\n",
    "    return div_info_list"
   ]
  },
  {
   "cell_type": "code",
   "execution_count": 12,
   "id": "622e4ec8-39a0-48ce-830e-ce29c5a13072",
   "metadata": {
    "scrolled": true
   },
   "outputs": [],
   "source": [
    "if __name__ == \"__main__\":\n",
    "    base_url = 'https://www.flipkart.com/search?q=laptop&otracker=search&otracker1=search&marketplace=FLIPKART&as-show=on&as=off&page={}'\n",
    "    all_div_info = []\n",
    "    for page_num in range(1, 42):  # Need to Scrap 88 pages.\n",
    "        url = base_url.format(page_num)\n",
    "        div_info_list = scrape_page(url)\n",
    "        all_div_info.extend(div_info_list)\n",
    "\n",
    "        # Printing the data from current page\n",
    "        print(f\"Scraped data from page {page_num}\")\n",
    "\n",
    "    # Printing the data\n",
    "    for i, div_info in enumerate(all_div_info, start=1):\n",
    "        print(f\"Entry {i}: {div_info}\")"
   ]
  },
  {
   "cell_type": "code",
   "execution_count": 13,
   "id": "23fe9f1b-a9e7-4280-9058-278b18d4255d",
   "metadata": {},
   "outputs": [],
   "source": [
    "df_1 = pd.DataFrame(all_div_info, columns=['Name', 'Rating', 'Current Price', 'Original Price', 'Discount', 'Features'])"
   ]
  },
  {
   "cell_type": "code",
   "execution_count": 14,
   "id": "dd844cb9-c336-4c7a-b330-ac937c3bae5e",
   "metadata": {},
   "outputs": [],
   "source": [
    "df_1"
   ]
  },
  {
   "cell_type": "code",
   "execution_count": 15,
   "id": "23346167-5ebe-4d55-825b-30b1607ab8c8",
   "metadata": {},
   "outputs": [],
   "source": [
    "df_1.to_csv('laptop_data_scraping.csv', index=False)"
   ]
  },
  {
   "cell_type": "code",
   "execution_count": null,
   "id": "2bee461b-1f46-4d3a-be51-858c77bddcd2",
   "metadata": {},
   "outputs": [],
   "source": []
  },
  {
   "cell_type": "code",
   "execution_count": null,
   "id": "19e99129-39e9-492e-a72e-965289255e6f",
   "metadata": {},
   "outputs": [],
   "source": []
  }
 ],
 "metadata": {
  "kernelspec": {
   "display_name": "Python 3 (ipykernel)",
   "language": "python",
   "name": "python3"
  },
  "language_info": {
   "codemirror_mode": {
    "name": "ipython",
    "version": 3
   },
   "file_extension": ".py",
   "mimetype": "text/x-python",
   "name": "python",
   "nbconvert_exporter": "python",
   "pygments_lexer": "ipython3",
   "version": "3.11.1"
  }
 },
 "nbformat": 4,
 "nbformat_minor": 5
}
